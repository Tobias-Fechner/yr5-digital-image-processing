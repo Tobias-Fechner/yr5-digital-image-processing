{
 "cells": [
  {
   "cell_type": "markdown",
   "metadata": {},
   "source": [
    "# Initial Script"
   ]
  },
  {
   "cell_type": "markdown",
   "metadata": {},
   "source": [
    "#### Imports"
   ]
  },
  {
   "cell_type": "code",
   "execution_count": null,
   "metadata": {},
   "outputs": [],
   "source": [
    "import handler\n",
    "import filters\n",
    "import numpy as np"
   ]
  },
  {
   "cell_type": "markdown",
   "metadata": {},
   "source": [
    "#### Load Image"
   ]
  },
  {
   "cell_type": "code",
   "execution_count": null,
   "metadata": {},
   "outputs": [],
   "source": [
    "img, _ = handler.getImageAsArray(handler.FOETUS_PATH_ORIGINAL)"
   ]
  },
  {
   "cell_type": "markdown",
   "metadata": {},
   "source": [
    "## Mean"
   ]
  },
  {
   "cell_type": "code",
   "execution_count": null,
   "metadata": {},
   "outputs": [],
   "source": [
    "for maskSize in [3,5,7,9,11,21,51]:\n",
    "    meanie = filters.Mean(maskSize=maskSize)\n",
    "    imgFiltered = meanie.convolve(img)\n",
    "    handler.plotFigs([img, imgFiltered], meanie)"
   ]
  },
  {
   "cell_type": "markdown",
   "metadata": {},
   "source": [
    "## Gaussian"
   ]
  },
  {
   "cell_type": "code",
   "execution_count": null,
   "metadata": {},
   "outputs": [],
   "source": [
    "for sig in [0.5,1,2,3,4,5,8]:\n",
    "    gaus = filters.Gaussian(sig=sig)\n",
    "    imgFiltered = gaus.convolve(img)\n",
    "    filteredTitle = gaus.name + \"_maskSize\" + str(gaus.maskSize) + \"_sig\" + str(sig)\n",
    "    handler.plotFigs([img, imgFiltered], gaus, filteredTitle)"
   ]
  },
  {
   "cell_type": "code",
   "execution_count": null,
   "metadata": {},
   "outputs": [],
   "source": [
    "imgFiltered = gaus.convolve(img)"
   ]
  },
  {
   "cell_type": "code",
   "execution_count": null,
   "metadata": {
    "scrolled": false
   },
   "outputs": [],
   "source": [
    "handler.plotFigs([img, imgFiltered])"
   ]
  },
  {
   "cell_type": "markdown",
   "metadata": {},
   "source": [
    "## Median"
   ]
  },
  {
   "cell_type": "code",
   "execution_count": null,
   "metadata": {},
   "outputs": [],
   "source": [
    "for maskSize in [3,5,7,9,11,21,51]:\n",
    "    med = filters.Median(maskSize=maskSize)\n",
    "    imgFiltered = med.convolve(img)\n",
    "    handler.plotFigs([img, imgFiltered], med)"
   ]
  },
  {
   "cell_type": "markdown",
   "metadata": {},
   "source": [
    "## High Pass"
   ]
  },
  {
   "cell_type": "code",
   "execution_count": null,
   "metadata": {},
   "outputs": [],
   "source": [
    "highP = filters.Sharpening(maskSize=21)"
   ]
  },
  {
   "cell_type": "code",
   "execution_count": null,
   "metadata": {},
   "outputs": [],
   "source": [
    "imgFiltered = highP.convolve(img)"
   ]
  },
  {
   "cell_type": "code",
   "execution_count": null,
   "metadata": {
    "scrolled": false
   },
   "outputs": [],
   "source": [
    "handler.plotFigs([img, imgFiltered], highP)"
   ]
  },
  {
   "cell_type": "markdown",
   "metadata": {},
   "source": [
    "## Low Pass"
   ]
  },
  {
   "cell_type": "code",
   "execution_count": null,
   "metadata": {},
   "outputs": [],
   "source": [
    "lowP = filters.LowPass(maskSize=7)\n",
    "print(lowP)"
   ]
  },
  {
   "cell_type": "code",
   "execution_count": null,
   "metadata": {},
   "outputs": [],
   "source": [
    "imgFiltered = lowP.convolve(img)"
   ]
  },
  {
   "cell_type": "code",
   "execution_count": null,
   "metadata": {
    "scrolled": false
   },
   "outputs": [],
   "source": [
    "handler.plotFigs([img, imgFiltered], lowP)"
   ]
  },
  {
   "cell_type": "code",
   "execution_count": null,
   "metadata": {},
   "outputs": [],
   "source": [
    "handler.saveAll(imgFiltered, lowP)"
   ]
  },
  {
   "cell_type": "markdown",
   "metadata": {},
   "source": [
    "## Adaptive Weighted Median"
   ]
  },
  {
   "cell_type": "code",
   "execution_count": null,
   "metadata": {},
   "outputs": [],
   "source": [
    "for maskSize in [3,5,7,11,21,51]:\n",
    "    for constant in [10, 50,150]:\n",
    "        for centralWeight in [50, 100]:\n",
    "            awMed = filters.AdaptiveWeightedMedian(maskSize=maskSize, constant=constant, centralWeight=centralWeight)\n",
    "            imgFiltered = awMed.convolve(img)\n",
    "            print(\"maskSize = {}\\nconstant = {}\\ncentral weight = {}\\n\".format(maskSize, constant, centralWeight))\n",
    "            handler.plotFigs([img, imgFiltered], awMed)"
   ]
  },
  {
   "cell_type": "markdown",
   "metadata": {},
   "source": [
    "## Trimmed Mean"
   ]
  },
  {
   "cell_type": "code",
   "execution_count": null,
   "metadata": {},
   "outputs": [],
   "source": [
    "for maskSize in [3,5,7,9,11,21,51]:\n",
    "    for trim in [maskSize, maskSize*2, maskSize*3]:\n",
    "        if trim > maskSize**2/2+1:\n",
    "            continue\n",
    "        else:\n",
    "            trimmedMean = filters.TrimmedMean(maskSize=maskSize, trimStart=trim, trimEnd=trim)\n",
    "            imgFiltered = trimmedMean.convolve(img)\n",
    "            filteredTitle = trimmedMean.name + \"_maskSize\" + str(trimmedMean.maskSize) + \"_trim\" + str(trim)\n",
    "            handler.plotFigs([img, imgFiltered], trimmedMean, filteredTitle)"
   ]
  },
  {
   "cell_type": "markdown",
   "metadata": {},
   "source": [
    "---"
   ]
  },
  {
   "cell_type": "code",
   "execution_count": null,
   "metadata": {},
   "outputs": [],
   "source": [
    "trimmedMean = filters.TrimmedMean(maskSize=9, trimStart=1, trimEnd=1)\n",
    "imgFiltered = trimmedMean.convolve(img)\n",
    "filteredTitle = trimmedMean.name + \"_maskSize\" + str(trimmedMean.maskSize) + \"_trim\" + str(1)\n",
    "handler.plotFigs([img, imgFiltered], trimmedMean, filteredTitle)"
   ]
  },
  {
   "cell_type": "code",
   "execution_count": null,
   "metadata": {},
   "outputs": [],
   "source": []
  }
 ],
 "metadata": {
  "kernelspec": {
   "display_name": "Python 3",
   "language": "python",
   "name": "python3"
  },
  "language_info": {
   "codemirror_mode": {
    "name": "ipython",
    "version": 3
   },
   "file_extension": ".py",
   "mimetype": "text/x-python",
   "name": "python",
   "nbconvert_exporter": "python",
   "pygments_lexer": "ipython3",
   "version": "3.8.1"
  }
 },
 "nbformat": 4,
 "nbformat_minor": 4
}
