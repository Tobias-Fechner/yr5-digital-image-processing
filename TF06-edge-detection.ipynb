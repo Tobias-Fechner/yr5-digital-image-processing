{
 "cells": [
  {
   "cell_type": "markdown",
   "metadata": {},
   "source": [
    "# Edge Detection"
   ]
  },
  {
   "cell_type": "markdown",
   "metadata": {},
   "source": [
    "### Imports"
   ]
  },
  {
   "cell_type": "code",
   "execution_count": null,
   "metadata": {},
   "outputs": [],
   "source": [
    "import filters\n",
    "import handler\n",
    "import third_party_filters"
   ]
  },
  {
   "cell_type": "markdown",
   "metadata": {},
   "source": [
    "### Load Image"
   ]
  },
  {
   "cell_type": "code",
   "execution_count": null,
   "metadata": {},
   "outputs": [],
   "source": [
    "FOETUS, _ = handler.getImageAsArray(handler.FOETUS_PATH_ORIGINAL)\n",
    "NZJERS, _ = handler.getImageAsArray(handler.NZJERS_PATH_ORIGINAL)"
   ]
  },
  {
   "cell_type": "markdown",
   "metadata": {},
   "source": [
    "### NZJERS Trimmed Mean"
   ]
  },
  {
   "cell_type": "markdown",
   "metadata": {},
   "source": [
    "maskSize: 5; trimEnds: 10"
   ]
  },
  {
   "cell_type": "code",
   "execution_count": null,
   "metadata": {},
   "outputs": [],
   "source": [
    "tMed = filters.TrimmedMean(maskSize=5, trimStart=10, trimEnd=10)\n",
    "imgMedFiltered = tMed.convolve(NZJERS)\n",
    "edge = third_party_filters.edgeDetect(imgMedFiltered)\n",
    "handler.plotFigs([NZJERS, imgMedFiltered, edge], tMed)"
   ]
  },
  {
   "cell_type": "markdown",
   "metadata": {},
   "source": [
    "### NZJERS Gaussian"
   ]
  },
  {
   "cell_type": "markdown",
   "metadata": {},
   "source": [
    "sig: 1"
   ]
  },
  {
   "cell_type": "code",
   "execution_count": null,
   "metadata": {},
   "outputs": [],
   "source": [
    "gaus = filters.Gaussian(sig=1)\n",
    "imgGausFiltered = gaus.convolve(NZJERS)\n",
    "edge = third_party_filters.edgeDetect(imgGausFiltered)\n",
    "handler.plotFigs([NZJERS, imgGausFiltered, edge], gaus)"
   ]
  },
  {
   "cell_type": "markdown",
   "metadata": {},
   "source": [
    "### Foetus Adaptive Weighted Median"
   ]
  },
  {
   "cell_type": "markdown",
   "metadata": {},
   "source": [
    "maskSize: 11; \n",
    "constant: 10; \n",
    "centralWeight: 50; "
   ]
  },
  {
   "cell_type": "code",
   "execution_count": null,
   "metadata": {},
   "outputs": [],
   "source": [
    "awmF = filters.AdaptiveWeightedMedian(maskSize=11, constant=10, centralWeight=50)\n",
    "foetAWMFiltered = awmF.convolve(FOETUS)\n",
    "edge = third_party_filters.edgeDetect(foetAWMFiltered)\n",
    "handler.plotFigs([FOETUS, foetAWMFiltered, edge], awmF)"
   ]
  },
  {
   "cell_type": "markdown",
   "metadata": {},
   "source": [
    "### NZJERS Adaptive Weighted Median"
   ]
  },
  {
   "cell_type": "markdown",
   "metadata": {},
   "source": [
    "maskSize: 5; \n",
    "constant: 50; \n",
    "centralWeight: 50; "
   ]
  },
  {
   "cell_type": "code",
   "execution_count": null,
   "metadata": {},
   "outputs": [],
   "source": [
    "awmN = filters.AdaptiveWeightedMedian(maskSize=5, constant=50, centralWeight=50)\n",
    "nzjAWMFiltered = awmN.convolve(NZJERS)\n",
    "edge = third_party_filters.edgeDetect(nzjAWMFiltered)\n",
    "handler.plotFigs([NZJERS, nzjAWMFiltered, edge], awmN)"
   ]
  },
  {
   "cell_type": "markdown",
   "metadata": {},
   "source": [
    "### Foetus SWAHE"
   ]
  },
  {
   "cell_type": "code",
   "execution_count": null,
   "metadata": {},
   "outputs": [],
   "source": [
    "swahe = filters.SWAHE(maskSize=201)\n",
    "imgSWAHEFiltered = swahe.filter(FOETUS)\n",
    "edge = third_party_filters.edgeDetect(imgSWAHEFiltered)\n",
    "handler.plotFigs([FOETUS, imgSWAHEFiltered, edge], swahe)"
   ]
  },
  {
   "cell_type": "code",
   "execution_count": null,
   "metadata": {},
   "outputs": [],
   "source": [
    "highPF = filters.Sharpening(maskSize=27)\n",
    "highPN = filters.Sharpening(maskSize=11)\n",
    "foetHighPFiltered = highPF.convolve(FOETUS)\n",
    "nzjersHighPFiltered = highPN.convolve(NZJERS)\n",
    "edgeF = third_party_filters.edgeDetect(foetHighPFiltered)\n",
    "edgeN = third_party_filters.edgeDetect(nzjersHighPFiltered)\n",
    "handler.plotFigs([FOETUS, foetHighPFiltered, edgeF], highPF)\n",
    "handler.plotFigs([NZJERS, nzjersHighPFiltered, edgeN], highPN)"
   ]
  },
  {
   "cell_type": "code",
   "execution_count": null,
   "metadata": {},
   "outputs": [],
   "source": []
  }
 ],
 "metadata": {
  "kernelspec": {
   "display_name": "Python 3",
   "language": "python",
   "name": "python3"
  },
  "language_info": {
   "codemirror_mode": {
    "name": "ipython",
    "version": 3
   },
   "file_extension": ".py",
   "mimetype": "text/x-python",
   "name": "python",
   "nbconvert_exporter": "python",
   "pygments_lexer": "ipython3",
   "version": "3.8.1"
  }
 },
 "nbformat": 4,
 "nbformat_minor": 4
}
